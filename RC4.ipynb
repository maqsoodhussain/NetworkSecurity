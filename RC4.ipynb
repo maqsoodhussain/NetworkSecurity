{
 "cells": [
  {
   "cell_type": "code",
   "execution_count": 1,
   "id": "278d6f78-c155-414f-80e2-29c85b39cd22",
   "metadata": {},
   "outputs": [],
   "source": [
    "def KSA(key):\n",
    "    key_length = len(key)\n",
    "    S = list(range(256))\n",
    "    j = 0\n",
    "    for i in range(256):\n",
    "        j = (j + S[i] + key[i % key_length]) % 256\n",
    "        S[i], S[j] = S[j], S[i]  # swap\n",
    "    return S"
   ]
  },
  {
   "cell_type": "code",
   "execution_count": 2,
   "id": "3ad2bcfd-66c9-4ca8-9042-cc7e9c687ee9",
   "metadata": {},
   "outputs": [],
   "source": [
    "def PRGA(S, data_length):\n",
    "    i = 0\n",
    "    j = 0\n",
    "    keystream = []\n",
    "    \n",
    "    for _ in range(data_length):\n",
    "        i = (i + 1) % 256\n",
    "        j = (j + S[i]) % 256\n",
    "        S[i], S[j] = S[j], S[i]  # swap\n",
    "        keystream.append(S[(S[i] + S[j]) % 256])\n",
    "    return keystream"
   ]
  },
  {
   "cell_type": "code",
   "execution_count": 3,
   "id": "f706754c-338f-4edd-8f4f-71a08c6af068",
   "metadata": {},
   "outputs": [],
   "source": [
    "def RC4(key, data_length):\n",
    "    S = KSA(key)\n",
    "    return PRGA(S, data_length)"
   ]
  },
  {
   "cell_type": "code",
   "execution_count": 4,
   "id": "4bbfad38-a1c5-41bb-9394-4808f6c390df",
   "metadata": {},
   "outputs": [],
   "source": [
    "\n",
    "def encrypt(data, key):\n",
    "    data_length = len(data)\n",
    "    keystream = RC4(key, data_length)\n",
    "    res = []\n",
    "\n",
    "    for i in range(data_length):\n",
    "        # XOR the byte of data with the corresponding byte from the keystream\n",
    "        encrypted_byte = data[i] ^ keystream[i]\n",
    "        res.append(encrypted_byte)\n",
    "\n",
    "    return bytes(res)"
   ]
  },
  {
   "cell_type": "code",
   "execution_count": 5,
   "id": "5384ea35-17dc-40b2-ad5c-f1ca3087067d",
   "metadata": {},
   "outputs": [],
   "source": [
    "def decrypt(data, key):\n",
    "    return encrypt(data, key)  # Since RC4 is symmetric"
   ]
  },
  {
   "cell_type": "code",
   "execution_count": 6,
   "id": "84b447bd-3e71-4943-ae13-472ad253fece",
   "metadata": {},
   "outputs": [
    {
     "name": "stdout",
     "output_type": "stream",
     "text": [
      "Original: b'Hello, RC4!'\n",
      "Encrypted: b\"\\\\\\xddP+\\xb0^>\\xf0\\xa7'\\x1c\"\n",
      "Decrypted: Hello, RC4!\n"
     ]
    }
   ],
   "source": [
    "if __name__ == \"__main__\":\n",
    "    key = b\"SecretKey\"\n",
    "    data = b\"Hello, RC4!\"\n",
    "    \n",
    "    encrypted = encrypt(data, key)\n",
    "    decrypted = decrypt(encrypted, key)\n",
    "    \n",
    "    print(\"Original:\", data)\n",
    "    print(\"Encrypted:\", encrypted)\n",
    "    print(\"Decrypted:\", decrypted.decode())  # Converts bytes back to a string for readability"
   ]
  },
  {
   "cell_type": "code",
   "execution_count": null,
   "id": "24999a3f-5c48-4e2c-b4fa-29c73217a9f8",
   "metadata": {},
   "outputs": [],
   "source": []
  }
 ],
 "metadata": {
  "kernelspec": {
   "display_name": "Python 3 (ipykernel)",
   "language": "python",
   "name": "python3"
  },
  "language_info": {
   "codemirror_mode": {
    "name": "ipython",
    "version": 3
   },
   "file_extension": ".py",
   "mimetype": "text/x-python",
   "name": "python",
   "nbconvert_exporter": "python",
   "pygments_lexer": "ipython3",
   "version": "3.12.3"
  }
 },
 "nbformat": 4,
 "nbformat_minor": 5
}
