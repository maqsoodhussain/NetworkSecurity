{
 "cells": [
  {
   "cell_type": "code",
   "execution_count": 130,
   "id": "ffbacc57-ac34-4cff-b609-aad634567559",
   "metadata": {},
   "outputs": [],
   "source": [
    "# fir two cells are for to understanding \n",
    "def  print_text(pt, ip):\n",
    "    ct = []\n",
    "    for i in ip:\n",
    "        ct.append(pt[i])\n",
    "        \n",
    "    return \"\".join(ct)"
   ]
  },
  {
   "cell_type": "code",
   "execution_count": 131,
   "id": "bbf41b1b-83b5-4f71-8f99-a9d2848a6175",
   "metadata": {},
   "outputs": [
    {
     "name": "stdout",
     "output_type": "stream",
     "text": [
      "Original string : abcdef\n",
      "Intial permutation: febacd\n",
      "Inverserse permutation : abcdef\n"
     ]
    }
   ],
   "source": [
    "pt = 'abcdef'\n",
    "print(f\"Original string : {pt}\")\n",
    "\n",
    "ip = [5,4,1,0,2,3]\n",
    "ct= print_text(pt, ip)\n",
    "\n",
    "print(f\"Intial permutation: {ct}\")\n",
    "\n",
    "fp=[3,2,4,5,1,0]\n",
    "ct2= print_text(ct, fp)\n",
    "print(f\"Inverserse permutation : {ct2}\")\n"
   ]
  },
  {
   "cell_type": "code",
   "execution_count": null,
   "id": "df7ef849-4b05-4990-b637-7d95937491d5",
   "metadata": {},
   "outputs": [],
   "source": []
  },
  {
   "cell_type": "code",
   "execution_count": 132,
   "id": "392d44d7-f721-4347-8b7b-44c0257918d9",
   "metadata": {},
   "outputs": [],
   "source": [
    "import numpy as np"
   ]
  },
  {
   "cell_type": "code",
   "execution_count": 133,
   "id": "6d3de96c-1fc2-4540-a4c1-47d9a4246d9f",
   "metadata": {},
   "outputs": [
    {
     "name": "stdout",
     "output_type": "stream",
     "text": [
      "64\n"
     ]
    }
   ],
   "source": [
    "plain_text = 'abcdefghijklmnopqrstuvwxyzabcdefghijklmnopqrstuvwxyzabcdefghijkl'\n",
    "print(len(plain_text))"
   ]
  },
  {
   "cell_type": "code",
   "execution_count": 134,
   "id": "14b7c5f4-9d80-4fa0-ac89-172313d969b7",
   "metadata": {},
   "outputs": [
    {
     "data": {
      "text/plain": [
       "64"
      ]
     },
     "execution_count": 134,
     "metadata": {},
     "output_type": "execute_result"
    }
   ],
   "source": [
    "ip =           [58, 50, 42, 34, 26, 18, 10, 2,\n",
    "                60, 52, 44, 36, 28, 20, 12, 4,\n",
    "                62, 54, 46, 38, 30, 22, 14, 6,\n",
    "                64, 56, 48, 40, 32, 24, 16, 8,\n",
    "                57, 49, 41, 33, 25, 17, 9, 1,\n",
    "                59, 51, 43, 35, 27, 19, 11, 3,\n",
    "                61, 53, 45, 37, 29, 21, 13, 5,\n",
    "                63, 55, 47, 39, 31, 23, 15, 7]\n",
    "len(ip)"
   ]
  },
  {
   "cell_type": "code",
   "execution_count": 135,
   "id": "9695ad88-5d6c-4353-b6ef-f02020aa8a90",
   "metadata": {},
   "outputs": [],
   "source": [
    "initial_perm=[]\n",
    "for i in range(0,64):\n",
    "   initial_perm.append(ip[i]-1)\n",
    "    # print(initial_perm[i]-1)"
   ]
  },
  {
   "cell_type": "code",
   "execution_count": 136,
   "id": "a70794f6-423d-47ea-a282-8a1da23e6412",
   "metadata": {},
   "outputs": [],
   "source": [
    "# print(initial_perm)"
   ]
  },
  {
   "cell_type": "code",
   "execution_count": 137,
   "id": "a30c34f9-8843-4ce1-8e61-874762c9f4fa",
   "metadata": {},
   "outputs": [
    {
     "data": {
      "text/plain": [
       "64"
      ]
     },
     "execution_count": 137,
     "metadata": {},
     "output_type": "execute_result"
    }
   ],
   "source": [
    "len(initial_perm)"
   ]
  },
  {
   "cell_type": "code",
   "execution_count": 138,
   "id": "a4f8a7ce-a1ad-4988-9795-5ee3621f28fc",
   "metadata": {},
   "outputs": [
    {
     "name": "stdout",
     "output_type": "stream",
     "text": [
      "64\n",
      "Initial permutation text : fxphzrjbhzrjbtldjbtldvnfldvnfxphewogyqiagyqiaskciaskcumekcumewog\n"
     ]
    }
   ],
   "source": [
    "ct = print_text(plain_text,initial_perm)\n",
    "print(len(ct))\n",
    "print(f\"Initial permutation text : {ct}\")"
   ]
  },
  {
   "cell_type": "code",
   "execution_count": 139,
   "id": "77858112-49fc-4c44-90f7-973f096b79bf",
   "metadata": {},
   "outputs": [],
   "source": [
    "# final permutation code "
   ]
  },
  {
   "cell_type": "code",
   "execution_count": 140,
   "id": "630b1073-65ae-4752-a917-4ff267269fea",
   "metadata": {},
   "outputs": [],
   "source": [
    "fp =         [40, 8, 48, 16, 56, 24, 64, 32,\n",
    "              39, 7, 47, 15, 55, 23, 63, 31,\n",
    "              38, 6, 46, 14, 54, 22, 62, 30,\n",
    "              37, 5, 45, 13, 53, 21, 61, 29,\n",
    "              36, 4, 44, 12, 52, 20, 60, 28,\n",
    "              35, 3, 43, 11, 51, 19, 59, 27,\n",
    "              34, 2, 42, 10, 50, 18, 58, 26,\n",
    "              33, 1, 41, 9, 49, 17, 57, 25]"
   ]
  },
  {
   "cell_type": "code",
   "execution_count": 141,
   "id": "6f4f0270-a8ad-43e8-813b-503fda14b05c",
   "metadata": {},
   "outputs": [
    {
     "data": {
      "text/plain": [
       "64"
      ]
     },
     "execution_count": 141,
     "metadata": {},
     "output_type": "execute_result"
    }
   ],
   "source": [
    "final_perm=[]\n",
    "for i in range(0,64):\n",
    "   final_perm.append(fp[i]-1)\n",
    "len(final_perm)\n",
    "# print(final_perm)"
   ]
  },
  {
   "cell_type": "code",
   "execution_count": 142,
   "id": "844f409c-095c-4f1e-bde2-b5a37b250d84",
   "metadata": {},
   "outputs": [
    {
     "name": "stdout",
     "output_type": "stream",
     "text": [
      "64\n",
      "Initial permutation text : abcdefghijklmnopqrstuvwxyzabcdefghijklmnopqrstuvwxyzabcdefghijkl\n"
     ]
    }
   ],
   "source": [
    "ct2 = print_text(ct,final_perm)\n",
    "print(len(ct2))\n",
    "print(f\"Initial permutation text : {ct2}\")"
   ]
  },
  {
   "cell_type": "code",
   "execution_count": null,
   "id": "23857f48-73ba-411d-9048-08b0ac1931e5",
   "metadata": {},
   "outputs": [],
   "source": []
  },
  {
   "cell_type": "code",
   "execution_count": null,
   "id": "4d670abb-0067-42fa-b23f-f468604c0e90",
   "metadata": {},
   "outputs": [],
   "source": []
  },
  {
   "cell_type": "code",
   "execution_count": null,
   "id": "64ee6f6d-6eb0-4b47-b0b3-a3fbd399d058",
   "metadata": {},
   "outputs": [],
   "source": []
  }
 ],
 "metadata": {
  "kernelspec": {
   "display_name": "Python 3 (ipykernel)",
   "language": "python",
   "name": "python3"
  },
  "language_info": {
   "codemirror_mode": {
    "name": "ipython",
    "version": 3
   },
   "file_extension": ".py",
   "mimetype": "text/x-python",
   "name": "python",
   "nbconvert_exporter": "python",
   "pygments_lexer": "ipython3",
   "version": "3.12.3"
  }
 },
 "nbformat": 4,
 "nbformat_minor": 5
}
