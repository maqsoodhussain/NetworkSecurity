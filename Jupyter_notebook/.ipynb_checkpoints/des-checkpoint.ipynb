{
 "cells": [
  {
   "cell_type": "code",
   "execution_count": 29,
   "id": "ffbacc57-ac34-4cff-b609-aad634567559",
   "metadata": {},
   "outputs": [],
   "source": [
    "# fir two cells are for to understanding \n",
    "def  print_text(pt, ip):\n",
    "    ct = []\n",
    "    for i in ip:\n",
    "        ct.append(pt[i])\n",
    "        \n",
    "    return \"\".join(ct)"
   ]
  },
  {
   "cell_type": "code",
   "execution_count": 33,
   "id": "bbf41b1b-83b5-4f71-8f99-a9d2848a6175",
   "metadata": {},
   "outputs": [
    {
     "name": "stdout",
     "output_type": "stream",
     "text": [
      "Original string : abcdef\n",
      "Intial permutation: febacd\n",
      "Inverserse permutation : abcdef\n"
     ]
    }
   ],
   "source": [
    "pt = 'abcdef'\n",
    "print(f\"Original string : {pt}\")\n",
    "\n",
    "ip = [5,4,1,0,2,3]\n",
    "ct= print_text(pt, ip)\n",
    "print(f\"Intial permutation: {ct}\")\n",
    "\n",
    "fp=[3,2,4,5,1,0]\n",
    "ct2= print_text(ct, fp)\n",
    "print(f\"Inverserse permutation : {ct2}\")\n"
   ]
  },
  {
   "cell_type": "code",
   "execution_count": null,
   "id": "df7ef849-4b05-4990-b637-7d95937491d5",
   "metadata": {},
   "outputs": [],
   "source": []
  },
  {
   "cell_type": "code",
   "execution_count": 34,
   "id": "392d44d7-f721-4347-8b7b-44c0257918d9",
   "metadata": {},
   "outputs": [],
   "source": [
    "import numpy as np"
   ]
  },
  {
   "cell_type": "code",
   "execution_count": 40,
   "id": "6d3de96c-1fc2-4540-a4c1-47d9a4246d9f",
   "metadata": {},
   "outputs": [
    {
     "name": "stdout",
     "output_type": "stream",
     "text": [
      "64\n"
     ]
    }
   ],
   "source": [
    "plain_text = 'abcdefghijklmnopqrstuvwxyzabcdefghijklmnopqrstuvwxyzabcdefghijkl'\n",
    "print(len(plain_text))"
   ]
  },
  {
   "cell_type": "code",
   "execution_count": 41,
   "id": "14b7c5f4-9d80-4fa0-ac89-172313d969b7",
   "metadata": {},
   "outputs": [],
   "source": [
    "initial_perm = [58, 50, 42, 34, 26, 18, 10, 2,\n",
    "                60, 52, 44, 36, 28, 20, 12, 4,\n",
    "                62, 54, 46, 38, 30, 22, 14, 6,\n",
    "                64, 56, 48, 40, 32, 24, 16, 8,\n",
    "                57, 49, 41, 33, 25, 17, 9, 1,\n",
    "                59, 51, 43, 35, 27, 19, 11, 3,\n",
    "                61, 53, 45, 37, 29, 21, 13, 5,\n",
    "                63, 55, 47, 39, 31, 23, 15, 7]"
   ]
  },
  {
   "cell_type": "code",
   "execution_count": 50,
   "id": "9695ad88-5d6c-4353-b6ef-f02020aa8a90",
   "metadata": {},
   "outputs": [
    {
     "ename": "TypeError",
     "evalue": "'int' object is not iterable",
     "output_type": "error",
     "traceback": [
      "\u001b[1;31m---------------------------------------------------------------------------\u001b[0m",
      "\u001b[1;31mTypeError\u001b[0m                                 Traceback (most recent call last)",
      "Cell \u001b[1;32mIn[50], line 2\u001b[0m\n\u001b[0;32m      1\u001b[0m ip \u001b[38;5;241m=\u001b[39m []\n\u001b[1;32m----> 2\u001b[0m \u001b[38;5;28;43;01mfor\u001b[39;49;00m\u001b[43m \u001b[49m\u001b[43mi\u001b[49m\u001b[43m \u001b[49m\u001b[38;5;129;43;01min\u001b[39;49;00m\u001b[43m \u001b[49m\u001b[43minitial_perm\u001b[49m\u001b[43m:\u001b[49m\n\u001b[0;32m      3\u001b[0m \u001b[43m    \u001b[49m\u001b[43minitial_perm\u001b[49m\u001b[43m[\u001b[49m\u001b[43mi\u001b[49m\u001b[43m]\u001b[49m\n",
      "\u001b[1;31mTypeError\u001b[0m: 'int' object is not iterable"
     ]
    }
   ],
   "source": [
    "ip = []\n",
    "initial_perm[0]\n",
    "    "
   ]
  },
  {
   "cell_type": "code",
   "execution_count": null,
   "id": "a70794f6-423d-47ea-a282-8a1da23e6412",
   "metadata": {},
   "outputs": [],
   "source": []
  }
 ],
 "metadata": {
  "kernelspec": {
   "display_name": "Python 3 (ipykernel)",
   "language": "python",
   "name": "python3"
  },
  "language_info": {
   "codemirror_mode": {
    "name": "ipython",
    "version": 3
   },
   "file_extension": ".py",
   "mimetype": "text/x-python",
   "name": "python",
   "nbconvert_exporter": "python",
   "pygments_lexer": "ipython3",
   "version": "3.12.3"
  }
 },
 "nbformat": 4,
 "nbformat_minor": 5
}
