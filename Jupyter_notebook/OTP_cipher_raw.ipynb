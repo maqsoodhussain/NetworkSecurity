{
 "cells": [
  {
   "cell_type": "code",
   "execution_count": 1,
   "id": "7892c73c-7375-4050-888d-664c7d2cdf02",
   "metadata": {},
   "outputs": [],
   "source": [
    "# OPT CIPHER \n"
   ]
  },
  {
   "cell_type": "code",
   "execution_count": 2,
   "id": "cb9ed277-dc8b-4808-beb7-73c3cc1bcc21",
   "metadata": {},
   "outputs": [
    {
     "name": "stdout",
     "output_type": "stream",
     "text": [
      "1001000 1100101 1101100 1101100 1101111 1001000 1100101 1101100 1101100 1101111 \n"
     ]
    }
   ],
   "source": [
    "str = \"Hello\"\n",
    "\n",
    "binary_str = \"\"\n",
    "for ch in str:\n",
    "    asci_val = ord(ch)\n",
    "    binary_val = format(asci_val,'b')\n",
    "    print(binary_val, sep=\" \" , end=\" \" ) # gets every char binary string with no perfix 0b\n",
    "    binary_str = binary_str+ binary_val + \" \"  # binary_str +=binary_val + \" \"\n",
    "\n",
    "print(binary_str)"
   ]
  },
  {
   "cell_type": "code",
   "execution_count": 3,
   "id": "6668349d-bf8b-47cb-8979-aef4350d69e9",
   "metadata": {},
   "outputs": [],
   "source": [
    "def to_char(str):\n",
    "    cipher_text =[]\n",
    "    li=[]\n",
    "    for ch in range(0,len(str),8):\n",
    "        byte = str[ch:ch+8]\n",
    "        char = chr(int(byte,2))\n",
    "        cipher_text.append(char)\n",
    "        li.append(char)\n",
    "    print(f\"characters = {li}\")\n",
    "    print(\"original message = \", end=\"\")\n",
    "    return ''.join(cipher_text)"
   ]
  },
  {
   "cell_type": "code",
   "execution_count": 4,
   "id": "9bb36f8b-aafe-40b6-aa51-dd76333b850d",
   "metadata": {},
   "outputs": [],
   "source": [
    "# this function converts any msg or key to binary value \n",
    "def to_Binary(str):\n",
    "    binary_str =''\n",
    "    for ch in str:\n",
    "        asci_val = ord(ch)\n",
    "        binary_val = format(asci_val,'08b') # gets every char binary string with no perfix 0b\n",
    "        binary_str = binary_str+ binary_val + ''  # binary_str +=binary_val + \" \"\n",
    "    return binary_str\n",
    "\n",
    "\n",
    "    "
   ]
  },
  {
   "cell_type": "code",
   "execution_count": null,
   "id": "25b50c1f-7dde-4c54-91f2-9dc309cecd68",
   "metadata": {},
   "outputs": [],
   "source": [
    "def x_or(in_binary, key):\n",
    "    msg = (int(in_binary,2)) ^ (int(key,2))\n",
    "    msg = format(msg,'0{}b'.format(len(key)))\n",
    "    return msg\n",
    "    "
   ]
  },
  {
   "cell_type": "code",
   "execution_count": 5,
   "id": "96e3b328-639b-495f-a430-155d34fbd7ec",
   "metadata": {},
   "outputs": [],
   "source": [
    "# after convert converting string into binary values we store binary values in string like\n",
    "# this \"010101 01010 01010 010101 \"\n",
    "\n",
    "# But whenn we have do xor opration on it we have to remove spaces and covert to binary \n"
   ]
  },
  {
   "cell_type": "code",
   "execution_count": 6,
   "id": "8ad5adda-94eb-43aa-86c9-b862dc0e9942",
   "metadata": {},
   "outputs": [],
   "source": [
    "\n",
    "# remove function is used to remove spaces from string \n",
    "def remove(str):\n",
    "    return str.replace(\" \",\"\")\n",
    "\n",
    "# #this functionis used to convert it into int to we perform xor \n",
    "# def convert(str):\n",
    "#     str = str_binary.strip('\"')\n",
    "#     str= int(str)\n",
    "#     return str"
   ]
  },
  {
   "cell_type": "code",
   "execution_count": 7,
   "id": "8dda0f66-f383-498e-8abb-d15e015e86c8",
   "metadata": {},
   "outputs": [],
   "source": [
    "str = \"Hello World\"\n",
    "key = \"i can join \""
   ]
  },
  {
   "cell_type": "code",
   "execution_count": 8,
   "id": "2e21d0e0-3560-45c2-bb39-96194b6eef9f",
   "metadata": {},
   "outputs": [
    {
     "name": "stdout",
     "output_type": "stream",
     "text": [
      "0100100001100101011011000110110001101111001000000101011101101111011100100110110001100100\n",
      "0110100100100000011000110110000101101110001000000110101001101111011010010110111000100000\n"
     ]
    }
   ],
   "source": [
    "str_binary = to_Binary(str)\n",
    "print(str_binary)\n",
    "\n",
    "key_binary = to_Binary(key)\n",
    "print(key_binary)"
   ]
  },
  {
   "cell_type": "code",
   "execution_count": 9,
   "id": "e43e1ced-b728-40a2-88f9-1d9c0ca8e93b",
   "metadata": {},
   "outputs": [
    {
     "name": "stdout",
     "output_type": "stream",
     "text": [
      "Message= 0100100001100101011011000110110001101111001000000101011101101111011100100110110001100100\n",
      "Key = 0110100100100000011000110110000101101110001000000110101001101111011010010110111000100000\n"
     ]
    },
    {
     "data": {
      "text/plain": [
       "88"
      ]
     },
     "execution_count": 9,
     "metadata": {},
     "output_type": "execute_result"
    }
   ],
   "source": [
    "str_binary = remove(str_binary)\n",
    "key_binary = remove(key_binary)\n",
    "print(f\"Message= {str_binary}\")\n",
    "print(f\"Key = {key_binary}\")\n",
    "len(key_binary)"
   ]
  },
  {
   "cell_type": "code",
   "execution_count": 18,
   "id": "dd898f8a-a555-46e5-b4bc-ea37813acd71",
   "metadata": {},
   "outputs": [
    {
     "name": "stdout",
     "output_type": "stream",
     "text": [
      "0010000101000101000011110000110100000001000000000011110100000000000110110000001001000100\n"
     ]
    }
   ],
   "source": [
    "print(x_or(str_binary,key_binary))"
   ]
  },
  {
   "cell_type": "code",
   "execution_count": 10,
   "id": "a181332a-27f9-417b-95c2-06c651d1d2f0",
   "metadata": {},
   "outputs": [
    {
     "name": "stdout",
     "output_type": "stream",
     "text": [
      "Cipher = 0010000101000101000011110000110100000001000000000011110100000000000110110000001001000100\n"
     ]
    },
    {
     "data": {
      "text/plain": [
       "88"
      ]
     },
     "execution_count": 10,
     "metadata": {},
     "output_type": "execute_result"
    }
   ],
   "source": [
    "cipher_binary = (int(str_binary,2)) ^ (int(key_binary,2))\n",
    "cipher_binary = format(cipher_binary,'0{}b'.format(len(str_binary)))\n",
    "print(f\"Cipher = {cipher_binary}\")\n",
    "len(cipher_binary)"
   ]
  },
  {
   "cell_type": "code",
   "execution_count": 11,
   "id": "1a304617-f9da-4c5d-ac81-59c5baefa0f1",
   "metadata": {},
   "outputs": [
    {
     "name": "stdout",
     "output_type": "stream",
     "text": [
      "characters = ['!', 'E', '\\x0f', '\\r', '\\x01', '\\x00', '=', '\\x00', '\\x1b', '\\x02', 'D']\n",
      "original message = "
     ]
    }
   ],
   "source": [
    "cipher_text = to_char(cipher_binary)"
   ]
  },
  {
   "cell_type": "code",
   "execution_count": 12,
   "id": "0b6339aa-99c2-4c43-9a33-f9cdf8d4d59d",
   "metadata": {},
   "outputs": [
    {
     "name": "stdout",
     "output_type": "stream",
     "text": [
      "cipher text\n",
      "\u0001\u0000=\u0000\u001b\u0002D\n"
     ]
    }
   ],
   "source": [
    "print(\"cipher text\")\n",
    "print(cipher_text) "
   ]
  },
  {
   "cell_type": "code",
   "execution_count": 13,
   "id": "771d4959-5f94-4971-923e-9c87f7a94428",
   "metadata": {},
   "outputs": [
    {
     "name": "stdout",
     "output_type": "stream",
     "text": [
      "0010000101000101000011110000110100000001000000000011110100000000000110110000001001000100\n"
     ]
    }
   ],
   "source": [
    "cipher_binary= to_Binary(cipher_text)\n",
    "print(cipher_binary)"
   ]
  },
  {
   "cell_type": "code",
   "execution_count": 16,
   "id": "db3ee54e-eb68-4e73-b5e9-e116f7c5d719",
   "metadata": {},
   "outputs": [
    {
     "name": "stdout",
     "output_type": "stream",
     "text": [
      "0100100001100101011011000110110001101111001000000101011101101111011100100110110001100100\n"
     ]
    }
   ],
   "source": [
    "\n"
   ]
  },
  {
   "cell_type": "code",
   "execution_count": 15,
   "id": "d19e516a-37a3-41ff-ab72-545b0eb58ad6",
   "metadata": {},
   "outputs": [
    {
     "name": "stdout",
     "output_type": "stream",
     "text": [
      "Message = 0100100001100101011011000110110001101111001000000101011101101111011100100110110001100100\n",
      "characters = ['H', 'e', 'l', 'l', 'o', ' ', 'W', 'o', 'r', 'l', 'd']\n",
      "original message = Hello World\n"
     ]
    }
   ],
   "source": [
    "print(x_or(cipher_binary,key_binary))\n",
    "\n",
    "msg = (int(cipher_binary,2)) ^ (int(key_binary,2))\n",
    "msg = format(msg,'0{}b'.format(len(key_binary)))\n",
    "print(f\"Message = {msg}\")\n",
    "len(msg)\n",
    "print(to_char(msg))"
   ]
  },
  {
   "cell_type": "code",
   "execution_count": null,
   "id": "b9311e7f-5d5d-4960-9b12-5eef992dfca5",
   "metadata": {},
   "outputs": [],
   "source": []
  },
  {
   "cell_type": "code",
   "execution_count": null,
   "id": "8826862c-a4b2-417f-965f-e0e30d36209e",
   "metadata": {},
   "outputs": [],
   "source": []
  }
 ],
 "metadata": {
  "kernelspec": {
   "display_name": "Python 3 (ipykernel)",
   "language": "python",
   "name": "python3"
  },
  "language_info": {
   "codemirror_mode": {
    "name": "ipython",
    "version": 3
   },
   "file_extension": ".py",
   "mimetype": "text/x-python",
   "name": "python",
   "nbconvert_exporter": "python",
   "pygments_lexer": "ipython3",
   "version": "3.12.3"
  }
 },
 "nbformat": 4,
 "nbformat_minor": 5
}
