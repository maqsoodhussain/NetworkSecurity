{
 "cells": [
  {
   "cell_type": "code",
   "execution_count": 1,
   "id": "4cf1412b-d697-4723-b1ba-9a2186453203",
   "metadata": {},
   "outputs": [],
   "source": [
    "# FUNCTION THAT CONVERT INPUT STRING TO BINARY \n",
    "def to_Binary(str):\n",
    "    binary_str =''\n",
    "    for ch in str:\n",
    "        asci_val = ord(ch) # gives asci value of given character \n",
    "        binary_val = format(asci_val,'08b') # gets every char binary string with no perfix 0b\n",
    "        binary_str = binary_str+ binary_val + ''  # binary_str +=binary_val + \" \"\n",
    "    return binary_str"
   ]
  },
  {
   "cell_type": "code",
   "execution_count": 5,
   "id": "733dccf3-0373-4617-ad27-cd45f27298ef",
   "metadata": {},
   "outputs": [],
   "source": [
    "# FUNCTION THAT CONVERT INPUT BINARY STRING TO CHARACTER \n",
    "def to_char(str):\n",
    "    cipher_text =[]\n",
    "    li=[]\n",
    "    for ch in range(0,len(str),8):\n",
    "        byte = str[ch:ch+8]\n",
    "        char = chr(int(byte,2))\n",
    "        cipher_text.append(char)\n",
    "        li.append(char)\n",
    "    print(f\"characters = {li}\")\n",
    "    return ''.join(cipher_text)"
   ]
  },
  {
   "cell_type": "code",
   "execution_count": 6,
   "id": "b8c29a74-9710-405a-9ae0-ae04533a4637",
   "metadata": {},
   "outputs": [],
   "source": [
    "# FUNCTION THAT PERFORM XOR OPERATION \n",
    "def x_or(in_binary, key):\n",
    "    msg = (int(in_binary,2)) ^ (int(key,2))\n",
    "    msg = format(msg,'0{}b'.format(len(key)))\n",
    "    return msg"
   ]
  },
  {
   "cell_type": "code",
   "execution_count": null,
   "id": "4d400daf-8b12-43b6-abcd-a2000a336a1f",
   "metadata": {},
   "outputs": [],
   "source": [
    "# after convert converting string into binary values we store binary values in string like\n",
    "# this \"010101 01010 01010 010101 \"\n",
    "\n",
    "# But whenn we have do xor opration on it we have to remove spaces and covert to binary "
   ]
  },
  {
   "cell_type": "code",
   "execution_count": 7,
   "id": "4d46b8b1-d849-4514-b8cb-8d944b6a857b",
   "metadata": {},
   "outputs": [],
   "source": [
    "# remove function is used to remove spaces from string \n",
    "def remove(str):\n",
    "    return str.replace(\" \",\"\")\n",
    "\n",
    "# #this functionis used to convert it into int to we perform xor \n",
    "def convert(str):\n",
    "    str = str_binary.strip('\"')\n",
    "    str= int(str)\n",
    "    return str"
   ]
  },
  {
   "cell_type": "code",
   "execution_count": 8,
   "id": "e0bec4c5-7980-47b1-8f04-57de8d121695",
   "metadata": {},
   "outputs": [],
   "source": [
    "message =  \"Hello World\" # message we want to transmit\n",
    "key = \"i can join \" # key we use it must be as same length as message"
   ]
  },
  {
   "cell_type": "code",
   "execution_count": 9,
   "id": "017384aa-3703-436b-b652-b551fd1f1b22",
   "metadata": {},
   "outputs": [],
   "source": [
    "# first we have to convert both msg and key into binary \n",
    "message_binary = to_Binary(message)\n",
    "key_binary = to_Binary(key)"
   ]
  },
  {
   "cell_type": "code",
   "execution_count": 10,
   "id": "e200ccf4-0175-40c3-899e-4236cc2bd3a2",
   "metadata": {},
   "outputs": [
    {
     "name": "stdout",
     "output_type": "stream",
     "text": [
      "Binary of Message: 0100100001100101011011000110110001101111001000000101011101101111011100100110110001100100\n",
      "Binary of Key: 0110100100100000011000110110000101101110001000000110101001101111011010010110111000100000\n"
     ]
    }
   ],
   "source": [
    "# printing binary of msg and key \n",
    "print(f\"Binary of Message: {message_binary}\")\n",
    "print(f\"Binary of Key: {key_binary}\")"
   ]
  },
  {
   "cell_type": "code",
   "execution_count": null,
   "id": "a9308de4-17e9-46d0-8d52-f46b932cfa5a",
   "metadata": {},
   "outputs": [],
   "source": [
    "# check length of both is same of not because we do XOR operation so need to be of same length\n",
    "#length of message binary\n",
    "len(message_binary)"
   ]
  },
  {
   "cell_type": "code",
   "execution_count": null,
   "id": "6254b20f-32f0-47f3-9fbd-367228f6aca7",
   "metadata": {},
   "outputs": [],
   "source": [
    "#length of key binary \n",
    "len(key_binary)"
   ]
  },
  {
   "cell_type": "code",
   "execution_count": null,
   "id": "08b98e32-87b7-442b-866a-5de73ab3ef63",
   "metadata": {},
   "outputs": [],
   "source": [
    "# know do xor opration of message and key\n",
    "cipher_binary = x_or(message_binary,key_binary)"
   ]
  },
  {
   "cell_type": "code",
   "execution_count": null,
   "id": "9f87f1e5-a653-4c34-a260-3d9722fcbe01",
   "metadata": {},
   "outputs": [],
   "source": [
    "# printing cipher that is in binary and length also lenth must be same as message or key\n",
    "print(f\"Cipher in Binary: {cipher_binary}\")\n",
    "len(cipher_binary)"
   ]
  },
  {
   "cell_type": "code",
   "execution_count": null,
   "id": "f80d7c39-74dd-413f-acfa-5b8ceee13cf3",
   "metadata": {},
   "outputs": [],
   "source": [
    "# convert this binary ciper to char may be there are some non printable characters as well \n",
    "print(to_char(cipher_binary))\n",
    "\n",
    "#i have print two things one is characters that are cipher of individual character \n",
    "# secon di print cipher full message becasee there are non printable character so we dont understant second msg clearly \n",
    "# i.e why print first list of each char in list "
   ]
  },
  {
   "cell_type": "code",
   "execution_count": null,
   "id": "c115900b-fd76-4d19-b0c2-dc8b04beaa89",
   "metadata": {},
   "outputs": [],
   "source": [
    "#to get original message we have to do XOR or binary_cipher with binary_Key \n",
    "# we get origial message but message is it in binary so we again convert it into char by calling to_char funcion()\n",
    "msg = x_or(key_binary,cipher_binary)"
   ]
  },
  {
   "cell_type": "code",
   "execution_count": null,
   "id": "6259694f-879d-45ba-9224-625275bddcea",
   "metadata": {},
   "outputs": [],
   "source": [
    "print(to_char(msg))"
   ]
  },
  {
   "cell_type": "code",
   "execution_count": null,
   "id": "b4afc1cf-520d-40ba-aa88-bd292e4ee99c",
   "metadata": {},
   "outputs": [],
   "source": []
  }
 ],
 "metadata": {
  "kernelspec": {
   "display_name": "Python 3 (ipykernel)",
   "language": "python",
   "name": "python3"
  },
  "language_info": {
   "codemirror_mode": {
    "name": "ipython",
    "version": 3
   },
   "file_extension": ".py",
   "mimetype": "text/x-python",
   "name": "python",
   "nbconvert_exporter": "python",
   "pygments_lexer": "ipython3",
   "version": "3.12.3"
  }
 },
 "nbformat": 4,
 "nbformat_minor": 5
}
