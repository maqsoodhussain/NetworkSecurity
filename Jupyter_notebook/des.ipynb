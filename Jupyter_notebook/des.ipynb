{
 "cells": [
  {
   "cell_type": "code",
   "execution_count": 29,
   "id": "ffbacc57-ac34-4cff-b609-aad634567559",
   "metadata": {},
   "outputs": [],
   "source": [
    "# fir two cells are for to understanding \n",
    "def  print_text(pt, ip):\n",
    "    ct = []\n",
    "    for i in ip:\n",
    "        ct.append(pt[i])\n",
    "        \n",
    "    return \"\".join(ct)"
   ]
  },
  {
   "cell_type": "code",
   "execution_count": 33,
   "id": "bbf41b1b-83b5-4f71-8f99-a9d2848a6175",
   "metadata": {},
   "outputs": [
    {
     "name": "stdout",
     "output_type": "stream",
     "text": [
      "Original string : abcdef\n",
      "Intial permutation: febacd\n",
      "Inverserse permutation : abcdef\n"
     ]
    }
   ],
   "source": [
    "pt = 'abcdef'\n",
    "print(f\"Original string : {pt}\")\n",
    "\n",
    "ip = [5,4,1,0,2,3]\n",
    "ct= print_text(pt, ip)\n",
    "print(f\"Intial permutation: {ct}\")\n",
    "\n",
    "fp=[3,2,4,5,1,0]\n",
    "ct2= print_text(ct, fp)\n",
    "print(f\"Inverserse permutation : {ct2}\")\n"
   ]
  },
  {
   "cell_type": "code",
   "execution_count": null,
   "id": "df7ef849-4b05-4990-b637-7d95937491d5",
   "metadata": {},
   "outputs": [],
   "source": []
  },
  {
   "cell_type": "code",
   "execution_count": 34,
   "id": "392d44d7-f721-4347-8b7b-44c0257918d9",
   "metadata": {},
   "outputs": [],
   "source": [
    "import numpy as np"
   ]
  },
  {
   "cell_type": "code",
   "execution_count": 40,
   "id": "6d3de96c-1fc2-4540-a4c1-47d9a4246d9f",
   "metadata": {},
   "outputs": [
    {
     "name": "stdout",
     "output_type": "stream",
     "text": [
      "64\n"
     ]
    }
   ],
   "source": [
    "plain_text = 'abcdefghijklmnopqrstuvwxyzabcdefghijklmnopqrstuvwxyzabcdefghijkl'\n",
    "print(len(plain_text))"
   ]
  },
  {
   "cell_type": "code",
   "execution_count": 55,
   "id": "14b7c5f4-9d80-4fa0-ac89-172313d969b7",
   "metadata": {},
   "outputs": [],
   "source": [
    "initial_perm = [58, 50, 42, 34, 26, 18, 10, 2,\n",
    "                60, 52, 44, 36, 28, 20, 12, 4,\n",
    "                62, 54, 46, 38, 30, 22, 14, 6,\n",
    "                64, 56, 48, 40, 32, 24, 16, 8,\n",
    "                57, 49, 41, 33, 25, 17, 9, 1,\n",
    "                59, 51, 43, 35, 27, 19, 11, 3,\n",
    "                61, 53, 45, 37, 29, 21, 13, 5,\n",
    "                63, 55, 47, 39, 31, 23, 15, 7]"
   ]
  },
  {
   "cell_type": "code",
   "execution_count": 65,
   "id": "9695ad88-5d6c-4353-b6ef-f02020aa8a90",
   "metadata": {},
   "outputs": [
    {
     "name": "stdout",
     "output_type": "stream",
     "text": [
      "57\n",
      "49\n",
      "41\n",
      "33\n",
      "25\n",
      "17\n",
      "9\n",
      "1\n",
      "59\n",
      "51\n",
      "43\n",
      "35\n",
      "27\n",
      "19\n",
      "11\n",
      "3\n",
      "61\n",
      "53\n",
      "45\n",
      "37\n",
      "29\n",
      "21\n",
      "13\n",
      "5\n",
      "63\n",
      "55\n",
      "47\n",
      "39\n",
      "31\n",
      "23\n",
      "15\n",
      "7\n",
      "56\n",
      "48\n",
      "40\n",
      "32\n",
      "24\n",
      "16\n",
      "8\n",
      "0\n",
      "58\n",
      "50\n",
      "42\n",
      "34\n",
      "26\n",
      "18\n",
      "10\n",
      "2\n",
      "60\n",
      "52\n",
      "44\n",
      "36\n",
      "28\n",
      "20\n",
      "12\n",
      "4\n",
      "62\n",
      "54\n",
      "46\n",
      "38\n",
      "30\n",
      "22\n",
      "14\n",
      "6\n"
     ]
    }
   ],
   "source": [
    "\n",
    "for i in range(0,64):\n",
    "    print(initial_perm[i]-1)"
   ]
  },
  {
   "cell_type": "code",
   "execution_count": null,
   "id": "a70794f6-423d-47ea-a282-8a1da23e6412",
   "metadata": {},
   "outputs": [],
   "source": []
  },
  {
   "cell_type": "code",
   "execution_count": null,
   "id": "a30c34f9-8843-4ce1-8e61-874762c9f4fa",
   "metadata": {},
   "outputs": [],
   "source": []
  }
 ],
 "metadata": {
  "kernelspec": {
   "display_name": "Python 3 (ipykernel)",
   "language": "python",
   "name": "python3"
  },
  "language_info": {
   "codemirror_mode": {
    "name": "ipython",
    "version": 3
   },
   "file_extension": ".py",
   "mimetype": "text/x-python",
   "name": "python",
   "nbconvert_exporter": "python",
   "pygments_lexer": "ipython3",
   "version": "3.12.3"
  }
 },
 "nbformat": 4,
 "nbformat_minor": 5
}
