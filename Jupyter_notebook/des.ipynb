{
 "cells": [
  {
   "cell_type": "code",
   "execution_count": 1,
   "id": "ffbacc57-ac34-4cff-b609-aad634567559",
   "metadata": {},
   "outputs": [],
   "source": [
    "# fir two cells are for to understanding \n",
    "def  print_text(pt, ip):\n",
    "    ct = []\n",
    "    for i in ip:\n",
    "        ct.append(pt[i])\n",
    "        \n",
    "    return \"\".join(ct)"
   ]
  },
  {
   "cell_type": "code",
   "execution_count": 2,
   "id": "bbf41b1b-83b5-4f71-8f99-a9d2848a6175",
   "metadata": {},
   "outputs": [
    {
     "name": "stdout",
     "output_type": "stream",
     "text": [
      "Original string : abcdef\n",
      "Intial permutation: febacd\n",
      "Inverserse permutation : abcdef\n"
     ]
    }
   ],
   "source": [
    "pt = 'abcdef'\n",
    "print(f\"Original string : {pt}\")\n",
    "\n",
    "ip = [5,4,1,0,2,3]\n",
    "ct= print_text(pt, ip)\n",
    "\n",
    "print(f\"Intial permutation: {ct}\")\n",
    "\n",
    "fp=[3,2,4,5,1,0]\n",
    "ct2= print_text(ct, fp)\n",
    "print(f\"Inverserse permutation : {ct2}\")\n"
   ]
  },
  {
   "cell_type": "code",
   "execution_count": null,
   "id": "df7ef849-4b05-4990-b637-7d95937491d5",
   "metadata": {},
   "outputs": [],
   "source": []
  },
  {
   "cell_type": "code",
   "execution_count": 4,
   "id": "6d3de96c-1fc2-4540-a4c1-47d9a4246d9f",
   "metadata": {},
   "outputs": [
    {
     "name": "stdout",
     "output_type": "stream",
     "text": [
      "64\n"
     ]
    }
   ],
   "source": [
    "plain_text = 'abcdefghijklmnopqrstuvwxyzabcdefghijklmnopqrstuvwxyzabcdefghijkl'\n",
    "print(len(plain_text))"
   ]
  },
  {
   "cell_type": "code",
   "execution_count": 5,
   "id": "14b7c5f4-9d80-4fa0-ac89-172313d969b7",
   "metadata": {},
   "outputs": [
    {
     "data": {
      "text/plain": [
       "64"
      ]
     },
     "execution_count": 5,
     "metadata": {},
     "output_type": "execute_result"
    }
   ],
   "source": [
    "ip =           [58, 50, 42, 34, 26, 18, 10, 2,\n",
    "                60, 52, 44, 36, 28, 20, 12, 4,\n",
    "                62, 54, 46, 38, 30, 22, 14, 6,\n",
    "                64, 56, 48, 40, 32, 24, 16, 8,\n",
    "                57, 49, 41, 33, 25, 17, 9, 1,\n",
    "                59, 51, 43, 35, 27, 19, 11, 3,\n",
    "                61, 53, 45, 37, 29, 21, 13, 5,\n",
    "                63, 55, 47, 39, 31, 23, 15, 7]\n",
    "len(ip)"
   ]
  },
  {
   "cell_type": "code",
   "execution_count": 6,
   "id": "9695ad88-5d6c-4353-b6ef-f02020aa8a90",
   "metadata": {},
   "outputs": [],
   "source": [
    "initial_perm=[]\n",
    "for i in range(0,64):\n",
    "   initial_perm.append(ip[i]-1)\n",
    "    "
   ]
  },
  {
   "cell_type": "code",
   "execution_count": 7,
   "id": "a70794f6-423d-47ea-a282-8a1da23e6412",
   "metadata": {},
   "outputs": [],
   "source": [
    "# print(initial_perm)"
   ]
  },
  {
   "cell_type": "code",
   "execution_count": 8,
   "id": "a30c34f9-8843-4ce1-8e61-874762c9f4fa",
   "metadata": {},
   "outputs": [
    {
     "data": {
      "text/plain": [
       "64"
      ]
     },
     "execution_count": 8,
     "metadata": {},
     "output_type": "execute_result"
    }
   ],
   "source": [
    "len(initial_perm)"
   ]
  },
  {
   "cell_type": "code",
   "execution_count": 9,
   "id": "a4f8a7ce-a1ad-4988-9795-5ee3621f28fc",
   "metadata": {},
   "outputs": [
    {
     "name": "stdout",
     "output_type": "stream",
     "text": [
      "64\n",
      "Initial permutation text : fxphzrjbhzrjbtldjbtldvnfldvnfxphewogyqiagyqiaskciaskcumekcumewog\n"
     ]
    }
   ],
   "source": [
    "ct = print_text(plain_text,initial_perm)\n",
    "print(len(ct))\n",
    "print(f\"Initial permutation text : {ct}\")"
   ]
  },
  {
   "cell_type": "code",
   "execution_count": 10,
   "id": "77858112-49fc-4c44-90f7-973f096b79bf",
   "metadata": {},
   "outputs": [],
   "source": [
    "# final permutation code "
   ]
  },
  {
   "cell_type": "code",
   "execution_count": 11,
   "id": "630b1073-65ae-4752-a917-4ff267269fea",
   "metadata": {},
   "outputs": [],
   "source": [
    "fp =         [40, 8, 48, 16, 56, 24, 64, 32,\n",
    "              39, 7, 47, 15, 55, 23, 63, 31,\n",
    "              38, 6, 46, 14, 54, 22, 62, 30,\n",
    "              37, 5, 45, 13, 53, 21, 61, 29,\n",
    "              36, 4, 44, 12, 52, 20, 60, 28,\n",
    "              35, 3, 43, 11, 51, 19, 59, 27,\n",
    "              34, 2, 42, 10, 50, 18, 58, 26,\n",
    "              33, 1, 41, 9, 49, 17, 57, 25]"
   ]
  },
  {
   "cell_type": "code",
   "execution_count": 12,
   "id": "6f4f0270-a8ad-43e8-813b-503fda14b05c",
   "metadata": {},
   "outputs": [
    {
     "data": {
      "text/plain": [
       "64"
      ]
     },
     "execution_count": 12,
     "metadata": {},
     "output_type": "execute_result"
    }
   ],
   "source": [
    "final_perm=[]\n",
    "for i in range(0,64):\n",
    "   final_perm.append(fp[i]-1)\n",
    "len(final_perm)\n",
    "# print(final_perm)"
   ]
  },
  {
   "cell_type": "code",
   "execution_count": 142,
   "id": "844f409c-095c-4f1e-bde2-b5a37b250d84",
   "metadata": {},
   "outputs": [
    {
     "name": "stdout",
     "output_type": "stream",
     "text": [
      "64\n",
      "Initial permutation text : abcdefghijklmnopqrstuvwxyzabcdefghijklmnopqrstuvwxyzabcdefghijkl\n"
     ]
    }
   ],
   "source": [
    "ct2 = print_text(ct,final_perm)\n",
    "print(len(ct2))\n",
    "print(f\"Initial permutation text : {ct2}\")"
   ]
  },
  {
   "cell_type": "code",
   "execution_count": 1,
   "id": "23857f48-73ba-411d-9048-08b0ac1931e5",
   "metadata": {},
   "outputs": [],
   "source": [
    "s_boxes = [\n",
    "    # S-box 1\n",
    "    [\n",
    "        [14, 4, 13, 1, 2, 15, 11, 8, 3, 10, 6, 12, 5, 9, 0, 7],\n",
    "        [0, 15, 7, 4, 14, 2, 13, 1, 10, 6, 12, 11, 9, 5, 3, 8],\n",
    "        [4, 1, 14, 8, 13, 6, 2, 11, 15, 12, 9, 7, 3, 10, 5, 0],\n",
    "        [15, 12, 8, 2, 4, 9, 1, 7, 5, 11, 3, 14, 10, 0, 6, 13]\n",
    "    ],\n",
    "    # S-box 2\n",
    "    [\n",
    "        [15, 1, 8, 14, 6, 11, 3, 4, 9, 7, 2, 13, 12, 0, 5, 10],\n",
    "        [3, 13, 4, 7, 15, 2, 8, 14, 12, 0, 1, 10, 6, 9, 11, 5],\n",
    "        [0, 14, 7, 11, 10, 4, 13, 1, 5, 8, 12, 6, 9, 3, 2, 15],\n",
    "        [13, 8, 10, 1, 3, 15, 4, 2, 11, 6, 7, 12, 0, 5, 14, 9]\n",
    "    ],\n",
    "    # S-box 3\n",
    "    [\n",
    "        [10, 0, 9, 14, 6, 3, 15, 5, 1, 13, 12, 7, 11, 4, 2, 8],\n",
    "        [13, 7, 0, 9, 3, 4, 6, 10, 2, 8, 5, 14, 12, 11, 15, 1],\n",
    "        [13, 6, 4, 9, 8, 15, 3, 0, 11, 1, 2, 12, 5, 10, 14, 7],\n",
    "        [1, 10, 13, 0, 6, 9, 8, 7, 4, 15, 14, 3, 11, 5, 2, 12]\n",
    "    ],\n",
    "    # S-box 4\n",
    "    [\n",
    "        [7, 13, 14, 3, 0, 6, 9, 10, 1, 2, 8, 5, 11, 12, 4, 15],\n",
    "        [13, 8, 11, 5, 6, 15, 0, 3, 4, 7, 2, 12, 1, 10, 14, 9],\n",
    "        [10, 6, 9, 0, 12, 11, 7, 13, 15, 1, 3, 14, 5, 2, 8, 4],\n",
    "        [3, 15, 0, 6, 10, 1, 13, 8, 9, 4, 5, 11, 12, 7, 2, 14]\n",
    "    ],\n",
    "    # S-box 5\n",
    "    [\n",
    "        [2, 12, 4, 1, 7, 10, 11, 6, 8, 5, 3, 15, 13, 0, 14, 9],\n",
    "        [14, 11, 2, 12, 4, 7, 13, 1, 5, 0, 15, 10, 3, 9, 8, 6],\n",
    "        [4, 2, 1, 11, 10, 13, 7, 8, 15, 9, 12, 5, 6, 3, 0, 14],\n",
    "        [11, 8, 12, 7, 1, 14, 2, 13, 6, 15, 0, 9, 10, 4, 5, 3]\n",
    "    ],\n",
    "    # S-box 6\n",
    "    [\n",
    "        [12, 1, 10, 15, 9, 2, 6, 8, 0, 13, 3, 4, 14, 7, 5, 11],\n",
    "        [10, 15, 4, 2, 7, 12, 9, 5, 6, 1, 13, 14, 0, 11, 3, 8],\n",
    "        [9, 14, 15, 5, 2, 8, 12, 3, 7, 0, 4, 10, 1, 13, 11, 6],\n",
    "        [4, 3, 2, 12, 9, 5, 15, 10, 11, 14, 1, 7, 6, 0, 8, 13]\n",
    "    ],\n",
    "    # S-box 7\n",
    "    [\n",
    "        [4, 11, 2, 14, 15, 0, 8, 13, 3, 12, 9, 7, 5, 10, 6, 1],\n",
    "        [13, 0, 11, 7, 4, 9, 1, 10, 14, 3, 5, 12, 2, 15, 8, 6],\n",
    "        [1, 4, 11, 13, 12, 3, 7, 14, 10, 15, 6, 8, 0, 5, 9, 2],\n",
    "        [6, 11, 13, 8, 1, 4, 10, 7, 9, 5, 0, 15, 14, 2, 3, 12]\n",
    "    ],\n",
    "    # S-box 8\n",
    "    [\n",
    "        [13, 2, 8, 4, 6, 15, 11, 1, 10, 9, 3, 14, 5, 0, 12, 7],\n",
    "        [1, 15, 13, 8, 10, 3, 7, 4, 12, 5, 6, 11, 0, 14, 9, 2],\n",
    "        [7, 11, 4, 1, 9, 12, 14, 2, 0, 6, 10, 13, 15, 3, 5, 8],\n",
    "        [2, 1, 14, 7, 4, 10, 8, 13, 15, 12, 9, 0, 3, 5, 6, 11]\n",
    "    ]\n",
    "]"
   ]
  },
  {
   "cell_type": "code",
   "execution_count": null,
   "id": "4d670abb-0067-42fa-b23f-f468604c0e90",
   "metadata": {},
   "outputs": [],
   "source": []
  },
  {
   "cell_type": "code",
   "execution_count": null,
   "id": "64ee6f6d-6eb0-4b47-b0b3-a3fbd399d058",
   "metadata": {},
   "outputs": [],
   "source": []
  }
 ],
 "metadata": {
  "kernelspec": {
   "display_name": "Python 3 (ipykernel)",
   "language": "python",
   "name": "python3"
  },
  "language_info": {
   "codemirror_mode": {
    "name": "ipython",
    "version": 3
   },
   "file_extension": ".py",
   "mimetype": "text/x-python",
   "name": "python",
   "nbconvert_exporter": "python",
   "pygments_lexer": "ipython3",
   "version": "3.12.3"
  }
 },
 "nbformat": 4,
 "nbformat_minor": 5
}
