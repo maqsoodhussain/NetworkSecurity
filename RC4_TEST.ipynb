{
 "cells": [
  {
   "cell_type": "code",
   "execution_count": 1,
   "id": "0a44737b-f5a7-41d6-ba85-1ecfa5fa6fe5",
   "metadata": {},
   "outputs": [],
   "source": [
    "def KSA(key): #Key Scheduling Algorithm (KSA)\n",
    "    key_length = len(key)\n",
    "    S = list(range(256))\n",
    "    j = 0\n",
    "    for i in range(256):\n",
    "        j = (j + S[i] + key[i % key_length]) % 256\n",
    "        S[i], S[j] = S[j], S[i]  # swap\n",
    "    return S"
   ]
  },
  {
   "cell_type": "code",
   "execution_count": 5,
   "id": "95cd7356-bb88-4eb4-89f2-ca04dbe3b290",
   "metadata": {},
   "outputs": [
    {
     "name": "stdout",
     "output_type": "stream",
     "text": [
      "[110, 134, 158, 251, 52, 2, 171, 154, 17, 142, 218, 69, 133, 123, 12, 24, 207, 108, 169, 0, 16, 11, 50, 114, 117, 132, 31, 103, 59, 199, 126, 13, 172, 252, 60, 54, 65, 125, 193, 160, 237, 19, 51, 78, 152, 99, 82, 105, 63, 130, 186, 144, 255, 162, 229, 245, 40, 67, 25, 120, 173, 206, 131, 46, 223, 122, 156, 232, 56, 4, 124, 119, 23, 8, 48, 80, 85, 249, 234, 208, 146, 194, 121, 34, 165, 64, 91, 70, 209, 219, 49, 107, 30, 9, 233, 62, 6, 174, 3, 201, 253, 61, 87, 57, 250, 204, 170, 137, 149, 139, 157, 127, 96, 15, 109, 55, 215, 58, 45, 176, 210, 43, 74, 184, 180, 151, 175, 86, 192, 66, 29, 138, 150, 247, 243, 167, 239, 200, 35, 76, 39, 224, 112, 188, 227, 198, 213, 230, 136, 182, 241, 42, 95, 145, 191, 26, 238, 53, 68, 77, 220, 20, 246, 143, 129, 168, 88, 33, 181, 236, 240, 37, 73, 72, 111, 44, 38, 178, 155, 94, 163, 104, 141, 93, 1, 116, 189, 75, 185, 222, 231, 190, 197, 217, 115, 98, 32, 195, 5, 101, 196, 14, 153, 147, 166, 7, 211, 159, 248, 90, 81, 113, 203, 21, 254, 28, 164, 89, 36, 179, 97, 235, 84, 128, 18, 41, 228, 225, 148, 71, 216, 212, 177, 100, 205, 83, 221, 27, 226, 242, 183, 244, 92, 22, 47, 118, 202, 140, 135, 187, 79, 10, 106, 161, 214, 102]\n",
      "256\n"
     ]
    }
   ],
   "source": [
    "S = KSA(b\"notknow\")\n",
    "print(KSA(b\"notknow\"))\n",
    "print(len(KSA(b\"notknow\")))"
   ]
  },
  {
   "cell_type": "code",
   "execution_count": 7,
   "id": "3147c73f-483d-4950-bcfb-d7f1927fc007",
   "metadata": {},
   "outputs": [],
   "source": [
    "def PRGA(S, data_length):  #Pseudo-Random Generation Algorithm (PRGA)\n",
    "    i = 0\n",
    "    j = 0\n",
    "    keystream = []\n",
    "    \n",
    "    for _ in range(data_length):\n",
    "        i = (i + 1) % 256\n",
    "        j = (j + S[i]) % 256\n",
    "        S[i], S[j] = S[j], S[i]  # swap\n",
    "        keystream.append(S[(S[i] + S[j]) % 256])\n",
    "    return keystream"
   ]
  },
  {
   "cell_type": "code",
   "execution_count": 10,
   "id": "85f260a4-ae5a-4615-897d-fc1fb3721229",
   "metadata": {},
   "outputs": [
    {
     "name": "stdout",
     "output_type": "stream",
     "text": [
      "[36, 55, 26, 231, 122, 246, 36, 10, 59, 212, 22]\n",
      "11\n",
      "[49, 6, 208, 184, 1, 84, 10, 192, 21, 90, 10]\n"
     ]
    }
   ],
   "source": [
    "print(PRGA(S,len(data)))\n",
    "print(len(PRGA(S,len(data))))\n",
    "print(PRGA(S,len(data)))"
   ]
  },
  {
   "cell_type": "code",
   "execution_count": null,
   "id": "168776d1-277f-4c31-ac71-1e060cfb8630",
   "metadata": {},
   "outputs": [],
   "source": [
    "def RC4(key, data_length):\n",
    "    S = KSA(key)\n",
    "    return PRGA(S, data_length)"
   ]
  },
  {
   "cell_type": "code",
   "execution_count": 6,
   "id": "3cf08c74-2926-4cd7-90e5-326df349bf9c",
   "metadata": {},
   "outputs": [],
   "source": [
    "key = b\"notknow\"\n",
    "data = b\"hello world\""
   ]
  },
  {
   "cell_type": "code",
   "execution_count": null,
   "id": "23868276-ce6a-42a9-8724-50523f333a3f",
   "metadata": {},
   "outputs": [],
   "source": [
    "print(RC4(key,len(data)))"
   ]
  },
  {
   "cell_type": "code",
   "execution_count": null,
   "id": "5eddf6c2-7d20-4346-9b44-480ed406e892",
   "metadata": {},
   "outputs": [],
   "source": [
    "def encrypt(data, key):\n",
    "    data_length = len(data)\n",
    "    keystream = RC4(key, data_length)\n",
    "    res = []\n",
    "    for i in range(data_length):\n",
    "        # XOR the byte of data with the corresponding byte from the keystream\n",
    "        encrypted_byte = data[i] ^ keystream[i]\n",
    "        res.append(encrypted_byte)\n",
    "\n",
    "    return bytes(res)"
   ]
  },
  {
   "cell_type": "code",
   "execution_count": null,
   "id": "1268b8eb-e1b1-4bb4-8d88-12184c7f6cbe",
   "metadata": {},
   "outputs": [],
   "source": [
    "print(encrypt(data, key))"
   ]
  },
  {
   "cell_type": "code",
   "execution_count": null,
   "id": "283c017d-8814-4a57-8ccf-4e19087947fa",
   "metadata": {},
   "outputs": [],
   "source": [
    "def decrypt(data, key):\n",
    "    return encrypt(data, key)"
   ]
  },
  {
   "cell_type": "code",
   "execution_count": null,
   "id": "65db8d22-5bb6-4bfc-96b8-fba316169228",
   "metadata": {},
   "outputs": [],
   "source": [
    "cipher= encrypt(data,key)\n",
    "print(cipher)\n",
    "print(decrypt(de,key))"
   ]
  },
  {
   "cell_type": "code",
   "execution_count": null,
   "id": "8875787b-dc4e-4b51-9733-6ee9bbe5292b",
   "metadata": {},
   "outputs": [],
   "source": []
  }
 ],
 "metadata": {
  "kernelspec": {
   "display_name": "Python 3 (ipykernel)",
   "language": "python",
   "name": "python3"
  },
  "language_info": {
   "codemirror_mode": {
    "name": "ipython",
    "version": 3
   },
   "file_extension": ".py",
   "mimetype": "text/x-python",
   "name": "python",
   "nbconvert_exporter": "python",
   "pygments_lexer": "ipython3",
   "version": "3.12.3"
  }
 },
 "nbformat": 4,
 "nbformat_minor": 5
}
